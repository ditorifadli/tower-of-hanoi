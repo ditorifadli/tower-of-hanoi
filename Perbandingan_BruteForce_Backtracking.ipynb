{
  "nbformat": 4,
  "nbformat_minor": 0,
  "metadata": {
    "colab": {
      "provenance": []
    },
    "kernelspec": {
      "name": "python3",
      "display_name": "Python 3"
    },
    "language_info": {
      "name": "python"
    }
  },
  "cells": [
    {
      "cell_type": "code",
      "source": [
        "import time"
      ],
      "metadata": {
        "id": "TGphMjZ6fdnk"
      },
      "execution_count": 3,
      "outputs": []
    },
    {
      "cell_type": "code",
      "execution_count": 25,
      "metadata": {
        "colab": {
          "base_uri": "https://localhost:8080/"
        },
        "id": "tKd1xz_jdCB9",
        "outputId": "f44b4cef-3ba3-4d28-bc93-703e06b870a3"
      },
      "outputs": [
        {
          "output_type": "stream",
          "name": "stdout",
          "text": [
            "Pindahkan Cakram 1 dari A ke C\n",
            "Pindahkan Cakram 2 dari A ke B\n",
            "Pindahkan Cakram 1 dari C ke B\n",
            "Pindahkan Cakram 3 dari A ke C\n",
            "Pindahkan Cakram 1 dari B ke A\n",
            "Pindahkan Cakram 2 dari B ke C\n",
            "Pindahkan Cakram 1 dari A ke C\n",
            "Waktu eksekusi:3153672ns\n"
          ]
        }
      ],
      "source": [
        "#Brute Force\n",
        "def TowerOfHanoi(n, source, destination, auxiliary):\n",
        "    if n > 0:\n",
        "        # Memindahkan n-1 cakram dari menara sumber ke menara bantu\n",
        "        TowerOfHanoi(n-1, source, auxiliary, destination)\n",
        "\n",
        "        # Memindahkan cakram terbesar dari menara sumber ke menara tujuan\n",
        "        print(f\"Pindahkan Cakram {n} dari {source} ke {destination}\")\n",
        "\n",
        "        # Memindahkan n-1 cakram dari menara bantu ke menara tujuan\n",
        "        TowerOfHanoi(n-1, auxiliary, destination, source)\n",
        "\n",
        "# Penggunaan:\n",
        "n = 3  # Jumlah cakram\n",
        " # 'A' sebagai menara sumber,\n",
        " # 'C' sebagai menara tujuan,\n",
        " # 'B' sebagai menara bantu\n",
        "start=time.time_ns()\n",
        "TowerOfHanoi(n, 'A', 'C', 'B')\n",
        "end = time.time_ns()\n",
        "\n",
        "print(f\"Waktu eksekusi:{end-start}ns\")\n"
      ]
    },
    {
      "cell_type": "code",
      "source": [
        "#Backtracking\n",
        "def TowerOfHanoi(n, A, B, C ):\n",
        "    if n == 1:\n",
        "        print(f\"Pindahkan Cakram {n} dari {A} ke {C}\")\n",
        "        return\n",
        "\n",
        "    # Memindahkan n-1 cakram dari menara sumber ke menara bantu\n",
        "    TowerOfHanoi(n-1, A, C, B)\n",
        "\n",
        "    # Memindahkan cakram terbesar dari menara sumber ke menara tujuan\n",
        "    print(f\"Pindahkan Cakram {n} dari {A} ke {C}\")\n",
        "\n",
        "    # Memindahkan n-1 cakram dari menara bantu ke menara tujuan\n",
        "    TowerOfHanoi(n-1, B, A, C)\n",
        "\n",
        "# Penggunaan:\n",
        "n = 3  # Jumlah cakram\n",
        " # 'A' sebagai menara sumber,\n",
        " # 'C' sebagai menara tujuan,\n",
        " # 'B' sebagai menara bantu\n",
        "start=time.time_ns()\n",
        "TowerOfHanoi(n, 'A', 'B', 'C')\n",
        "end = time.time_ns()\n",
        "\n",
        "print(f\"Waktu eksekusi:{end-start}ns\")"
      ],
      "metadata": {
        "colab": {
          "base_uri": "https://localhost:8080/"
        },
        "id": "oiZGlk_egD0-",
        "outputId": "979271be-021b-4d6c-aae9-0ede1b9ce366"
      },
      "execution_count": 26,
      "outputs": [
        {
          "output_type": "stream",
          "name": "stdout",
          "text": [
            "Pindahkan Cakram 1 dari A ke C\n",
            "Pindahkan Cakram 2 dari A ke B\n",
            "Pindahkan Cakram 1 dari C ke B\n",
            "Pindahkan Cakram 3 dari A ke C\n",
            "Pindahkan Cakram 1 dari B ke A\n",
            "Pindahkan Cakram 2 dari B ke C\n",
            "Pindahkan Cakram 1 dari A ke C\n",
            "Waktu eksekusi:2714428ns\n"
          ]
        }
      ]
    }
  ]
}